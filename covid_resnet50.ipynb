{
  "nbformat": 4,
  "nbformat_minor": 0,
  "metadata": {
    "colab": {
      "provenance": [],
      "gpuType": "T4",
      "toc_visible": true
    },
    "kernelspec": {
      "name": "python3",
      "display_name": "Python 3"
    },
    "language_info": {
      "name": "python"
    },
    "accelerator": "GPU"
  },
  "cells": [
    {
      "cell_type": "code",
      "source": [
        "# Import necessary libraries\n",
        "import torch\n",
        "import torch.nn as nn\n",
        "import torch.optim as optim\n",
        "from torchvision import models, transforms\n",
        "from torch.utils.data import Dataset, DataLoader\n",
        "from sklearn.metrics import accuracy_score, precision_recall_fscore_support, confusion_matrix\n",
        "import numpy as np\n",
        "from PIL import Image\n",
        "import os\n",
        "from tqdm import tqdm\n",
        "from google.colab import drive\n",
        "\n",
        "# Mount Google Drive\n",
        "drive.mount('/content/drive')\n",
        "\n",
        "# Create directory for saving models\n",
        "save_path = '/content/drive/MyDrive/covid_models/'\n",
        "os.makedirs(save_path, exist_ok=True)\n",
        "\n",
        "# Set random seeds for reproducibility\n",
        "torch.manual_seed(42)\n",
        "torch.cuda.manual_seed(42)\n",
        "np.random.seed(42)"
      ],
      "metadata": {
        "colab": {
          "base_uri": "https://localhost:8080/"
        },
        "id": "k4NA-oosAuJW",
        "outputId": "42a90d70-498c-45c5-e3b7-e540419551be"
      },
      "execution_count": null,
      "outputs": [
        {
          "output_type": "stream",
          "name": "stdout",
          "text": [
            "Mounted at /content/drive\n"
          ]
        }
      ]
    },
    {
      "cell_type": "code",
      "source": [
        "# Define the COVID-19 dataset class\n",
        "class CovidDataset(Dataset):\n",
        "    def __init__(self, data_dir, transform=None):\n",
        "        self.data_dir = data_dir\n",
        "        self.transform = transform\n",
        "        self.classes = ['covid', 'healthy']\n",
        "\n",
        "        self.image_paths = []\n",
        "        self.labels = []\n",
        "\n",
        "        # Load the image paths and labels\n",
        "        for class_idx, class_name in enumerate(self.classes):\n",
        "            class_dir = os.path.join(data_dir, class_name)\n",
        "            for img_name in os.listdir(class_dir):\n",
        "                img_path = os.path.join(class_dir, img_name)\n",
        "                if img_path.lower().endswith(('.png', '.jpg', '.jpeg')):\n",
        "                    self.image_paths.append(img_path)\n",
        "                    self.labels.append(class_idx)\n",
        "\n",
        "    def __len__(self):\n",
        "        return len(self.image_paths)\n",
        "\n",
        "    def __getitem__(self, idx):\n",
        "        img_path = self.image_paths[idx]\n",
        "        # Load as grayscale (L mode)\n",
        "        image = Image.open(img_path).convert('L')\n",
        "        label = self.labels[idx]\n",
        "\n",
        "        if self.transform:\n",
        "            image = self.transform(image)\n",
        "\n",
        "        # Repeat the single channel 3 times to match ResNet input\n",
        "        image = image.repeat(3, 1, 1)\n",
        "\n",
        "        return image, label"
      ],
      "metadata": {
        "id": "4U2S6m0WAvuu"
      },
      "execution_count": null,
      "outputs": []
    },
    {
      "cell_type": "code",
      "source": [
        "# Define the data transformations\n",
        "train_transform = transforms.Compose([\n",
        "    transforms.Resize((224, 224)),\n",
        "    transforms.RandomHorizontalFlip(),\n",
        "    transforms.RandomRotation(15),\n",
        "    transforms.RandomAffine(degrees=0, translate=(0.05, 0.05)),\n",
        "    transforms.RandomAdjustSharpness(sharpness_factor=2),\n",
        "    transforms.RandomAutocontrast(),\n",
        "    transforms.ToTensor(),\n",
        "    transforms.Normalize([0.485], [0.229]) # Single channel normalization\n",
        "])\n",
        "\n",
        "test_transform = transforms.Compose([\n",
        "    transforms.Resize((224, 224)),\n",
        "    transforms.ToTensor(),\n",
        "    transforms.Normalize([0.485], [0.229]) # Single channel normalization\n",
        "])"
      ],
      "metadata": {
        "id": "PIdO3vVfAygf"
      },
      "execution_count": null,
      "outputs": []
    },
    {
      "cell_type": "code",
      "source": [
        "# Define the modified ResNet50 model\n",
        "class CovidResNet50(nn.Module):\n",
        "    def __init__(self):\n",
        "        super(CovidResNet50, self).__init__()\n",
        "        # Load pretrained model\n",
        "        self.model = models.resnet50(pretrained=True)\n",
        "\n",
        "        # Modify first conv layer to accept grayscale\n",
        "        self.model.conv1 = nn.Conv2d(3, 64, kernel_size=7, stride=2, padding=3, bias=False)\n",
        "\n",
        "        # Freeze early layers\n",
        "        for param in list(self.model.parameters())[:-20]:\n",
        "            param.requires_grad = False\n",
        "\n",
        "        # Modify final layers\n",
        "        num_ftrs = self.model.fc.in_features\n",
        "        self.model.fc = nn.Sequential(\n",
        "            nn.Linear(num_ftrs, 512),\n",
        "            nn.ReLU(),\n",
        "            nn.Dropout(0.4),\n",
        "            nn.Linear(512, 256),\n",
        "            nn.ReLU(),\n",
        "            nn.Dropout(0.3),\n",
        "            nn.Linear(256, 2)\n",
        "        )\n",
        "\n",
        "    def forward(self, x):\n",
        "        return self.model(x)"
      ],
      "metadata": {
        "id": "T0ljbm5SA2UW"
      },
      "execution_count": null,
      "outputs": []
    },
    {
      "cell_type": "code",
      "source": [
        "# Define functions for saving and exporting the model\n",
        "def save_model(model, optimizer, train_acc, test_acc, epoch, filename):\n",
        "    torch.save({\n",
        "        'epoch': epoch,\n",
        "        'model_state_dict': model.state_dict(),\n",
        "        'optimizer_state_dict': optimizer.state_dict(),\n",
        "        'train_acc': train_acc,\n",
        "        'test_acc': test_acc,\n",
        "    }, filename)\n",
        "\n",
        "def save_model_for_inference(model, filename):\n",
        "    model.eval()\n",
        "    torch.save(model.state_dict(), filename)\n",
        "\n",
        "def export_to_onnx(model, filename):\n",
        "    model.eval()\n",
        "    dummy_input = torch.randn(1, 3, 224, 224, device=next(model.parameters()).device)\n",
        "    torch.onnx.export(model, dummy_input, filename,\n",
        "                     export_params=True,\n",
        "                     opset_version=11,\n",
        "                     do_constant_folding=True,\n",
        "                     input_names=['input'],\n",
        "                     output_names=['output'],\n",
        "                     dynamic_axes={'input': {0: 'batch_size'},\n",
        "                                 'output': {0: 'batch_size'}})"
      ],
      "metadata": {
        "id": "x4eVbWELA4a9"
      },
      "execution_count": null,
      "outputs": []
    },
    {
      "cell_type": "code",
      "source": [
        "import matplotlib.pyplot as plt\n",
        "from sklearn.metrics import roc_curve, auc\n",
        "\n",
        "def plot_roc_auc(fpr, tpr, roc_auc):\n",
        "    plt.figure(figsize=(8, 6))\n",
        "    plt.plot(fpr, tpr, color='darkorange', lw=2, label='ROC curve (area = %0.2f)' % roc_auc)\n",
        "    plt.plot([0, 1], [0, 1], color='navy', lw=2, linestyle='--')\n",
        "    plt.xlim([0.0, 1.0])\n",
        "    plt.ylim([0.0, 1.05])\n",
        "    plt.xlabel('False Positive Rate')\n",
        "    plt.ylabel('True Positive Rate')\n",
        "    plt.title('Receiver Operating Characteristic (ROC) Curve')\n",
        "    plt.legend(loc=\"lower right\")\n",
        "    plt.show()\n",
        "\n",
        "def plot_confusion_matrix(conf_matrix):\n",
        "    plt.figure(figsize=(8, 6))\n",
        "    plt.imshow(conf_matrix, interpolation='nearest', cmap=plt.cm.Blues)\n",
        "    plt.title('Confusion Matrix')\n",
        "    plt.colorbar()\n",
        "    tick_marks = np.arange(2)\n",
        "    plt.xticks(tick_marks, ['COVID', 'Healthy'], rotation=45)\n",
        "    plt.yticks(tick_marks, ['COVID', 'Healthy'])\n",
        "\n",
        "    thresh = conf_matrix.max() / 2.\n",
        "    for i in range(conf_matrix.shape[0]):\n",
        "        for j in range(conf_matrix.shape[1]):\n",
        "            plt.text(j, i, conf_matrix[i, j],\n",
        "                     horizontalalignment=\"center\",\n",
        "                     color=\"white\" if conf_matrix[i, j] > thresh else \"black\")\n",
        "    plt.tight_layout()\n",
        "    plt.ylabel('True label')\n",
        "    plt.xlabel('Predicted label')\n",
        "    plt.show()\n",
        "\n",
        "# Define the training and evaluation functions\n",
        "def train_epoch(model, train_loader, criterion, optimizer, device):\n",
        "    model.train()\n",
        "    running_loss = 0.0\n",
        "    predictions, labels_list = [], []\n",
        "\n",
        "    for inputs, labels in tqdm(train_loader, desc='Training'):\n",
        "        inputs, labels = inputs.to(device), labels.to(device)\n",
        "\n",
        "        optimizer.zero_grad()\n",
        "        outputs = model(inputs)\n",
        "        loss = criterion(outputs, labels)\n",
        "\n",
        "        loss.backward()\n",
        "        optimizer.step()\n",
        "\n",
        "        running_loss += loss.item()\n",
        "        _, preds = torch.max(outputs, 1)\n",
        "        predictions.extend(preds.cpu().numpy())\n",
        "        labels_list.extend(labels.cpu().numpy())\n",
        "\n",
        "    epoch_loss = running_loss / len(train_loader)\n",
        "    epoch_acc = accuracy_score(labels_list, predictions)\n",
        "    return epoch_loss, epoch_acc\n",
        "\n",
        "def evaluate(model, test_loader, criterion, device):\n",
        "    model.eval()\n",
        "    running_loss = 0.0\n",
        "    predictions, labels_list = [], []\n",
        "\n",
        "    with torch.no_grad():\n",
        "        for inputs, labels in tqdm(test_loader, desc='Evaluating'):\n",
        "            inputs, labels = inputs.to(device), labels.to(device)\n",
        "\n",
        "            outputs = model(inputs)\n",
        "            loss = criterion(outputs, labels)\n",
        "\n",
        "            running_loss += loss.item()\n",
        "            _, preds = torch.max(outputs, 1)\n",
        "            predictions.extend(preds.cpu().numpy())\n",
        "            labels_list.extend(labels.cpu().numpy())\n",
        "\n",
        "    test_loss = running_loss / len(test_loader)\n",
        "    test_acc = accuracy_score(labels_list, predictions)\n",
        "    precision, recall, f1, _ = precision_recall_fscore_support(labels_list, predictions, average='binary')\n",
        "    conf_matrix = confusion_matrix(labels_list, predictions)\n",
        "\n",
        "    fpr, tpr, _ = roc_curve(labels_list, predictions)\n",
        "    roc_auc = auc(fpr, tpr)\n",
        "\n",
        "\n",
        "    return test_loss, test_acc, precision, recall, f1, conf_matrix, fpr, tpr, roc_auc\n",
        "\n",
        "def predict_single_image(image_path, model, device):\n",
        "    model.eval()\n",
        "\n",
        "    # Prepare image\n",
        "    image = Image.open(image_path).convert('L')\n",
        "    image = test_transform(image)\n",
        "    image = image.repeat(3, 1, 1) # Repeat channels\n",
        "    image = image.unsqueeze(0)\n",
        "    image = image.to(device)\n",
        "\n",
        "    with torch.no_grad():\n",
        "        outputs = model(image)\n",
        "        _, predicted = torch.max(outputs, 1)\n",
        "\n",
        "    return 'COVID' if predicted.item() == 0 else 'Healthy'"
      ],
      "metadata": {
        "id": "aVKz-v2ZA6Sl"
      },
      "execution_count": null,
      "outputs": []
    },
    {
      "cell_type": "code",
      "source": [
        "# Main function to train and evaluate the model\n",
        "def main():\n",
        "    # Paths\n",
        "    train_dir = '/content/covid-model/train'\n",
        "    test_dir = '/content/covid-model/test'\n",
        "\n",
        "    # Hyperparameters\n",
        "    batch_size = 16\n",
        "    num_epochs = 25\n",
        "    learning_rate = 0.0001\n",
        "\n",
        "    # Device\n",
        "    device = torch.device('cuda' if torch.cuda.is_available() else 'cpu')\n",
        "    print(f\"Using device: {device}\")\n",
        "\n",
        "    # Datasets and loaders\n",
        "    train_dataset = CovidDataset(train_dir, train_transform)\n",
        "    test_dataset = CovidDataset(test_dir, test_transform)\n",
        "\n",
        "    train_loader = DataLoader(train_dataset, batch_size=batch_size, shuffle=True, num_workers=2)\n",
        "    test_loader = DataLoader(test_dataset, batch_size=batch_size, shuffle=False, num_workers=2)\n",
        "\n",
        "    print(f\"Training samples: {len(train_dataset)}\")\n",
        "    print(f\"Testing samples: {len(test_dataset)}\")\n",
        "\n",
        "    # Calculate class weights\n",
        "    train_labels = torch.tensor(train_dataset.labels)\n",
        "    class_counts = torch.bincount(train_labels)\n",
        "    total_samples = len(train_labels)\n",
        "    class_weights = total_samples / (2 * class_counts.float())\n",
        "    class_weights = class_weights.to(device)\n",
        "\n",
        "    # Model initialization\n",
        "    model = CovidResNet50().to(device)\n",
        "    criterion = nn.CrossEntropyLoss(weight=class_weights)\n",
        "    optimizer = optim.Adam(filter(lambda p: p.requires_grad, model.parameters()), lr=learning_rate)\n",
        "    scheduler = optim.lr_scheduler.ReduceLROnPlateau(optimizer, mode='min', factor=0.1, patience=3, verbose=True)\n",
        "\n",
        "    # Training loop\n",
        "    best_test_acc = 0.0\n",
        "    for epoch in range(num_epochs):\n",
        "        print(f'\\nEpoch {epoch+1}/{num_epochs}')\n",
        "\n",
        "        train_loss, train_acc = train_epoch(model, train_loader, criterion, optimizer, device)\n",
        "        test_loss, test_acc, precision, recall, f1, conf_matrix, fpr, tpr, roc_auc = evaluate(model, test_loader, criterion, device)\n",
        "\n",
        "        print(f'Train Loss: {train_loss:.4f} Train Acc: {train_acc:.4f}')\n",
        "        print(f'Test Loss: {test_loss:.4f} Test Acc: {test_acc:.4f}')\n",
        "        print(f'Precision: {precision:.4f} Recall: {recall:.4f} F1: {f1:.4f}')\n",
        "        print('Confusion Matrix:')\n",
        "        print(conf_matrix)\n",
        "\n",
        "        scheduler.step(test_loss)\n",
        "\n",
        "        if test_acc > best_test_acc:\n",
        "            best_test_acc = test_acc\n",
        "\n",
        "            save_model(model, optimizer, train_acc, test_acc, epoch,\n",
        "                      os.path.join(save_path, 'covid_model_checkpoint.pth'))\n",
        "            save_model_for_inference(model,\n",
        "                                   os.path.join(save_path, 'covid_model_inference.pth'))\n",
        "            export_to_onnx(model,\n",
        "                          os.path.join(save_path, 'covid_model.onnx'))\n",
        "\n",
        "            print(f'New best model saved with accuracy: {test_acc:.4f}')\n",
        "\n",
        "    print(\"\\nTraining completed!\")\n",
        "    print(f\"Best test accuracy: {best_test_acc:.4f}\")\n",
        "\n",
        "    # Test prediction\n",
        "    test_image_path = os.path.join(test_dir, 'covid', os.listdir(os.path.join(test_dir, 'covid'))[0])\n",
        "    prediction = predict_single_image(test_image_path, model, device)\n",
        "    print(f\"\\nTest prediction on sample image: {prediction}\")\n",
        "\n",
        "    # Plot ROC AUC curve\n",
        "    plot_roc_auc(fpr, tpr, roc_auc)\n",
        "\n",
        "    # Plot confusion matrix\n",
        "    plot_confusion_matrix(conf_matrix)\n",
        "\n",
        "if __name__ == '__main__':\n",
        "    main()"
      ],
      "metadata": {
        "colab": {
          "base_uri": "https://localhost:8080/",
          "height": 1000
        },
        "id": "Vmy1IjyZA-B3",
        "outputId": "0cad294e-1f0a-4ff7-c6a4-cd2d41098478"
      },
      "execution_count": null,
      "outputs": [
        {
          "output_type": "stream",
          "name": "stdout",
          "text": [
            "Using device: cuda\n",
            "Training samples: 1112\n",
            "Testing samples: 13808\n"
          ]
        },
        {
          "output_type": "stream",
          "name": "stderr",
          "text": [
            "/usr/local/lib/python3.10/dist-packages/torchvision/models/_utils.py:208: UserWarning: The parameter 'pretrained' is deprecated since 0.13 and may be removed in the future, please use 'weights' instead.\n",
            "  warnings.warn(\n",
            "/usr/local/lib/python3.10/dist-packages/torchvision/models/_utils.py:223: UserWarning: Arguments other than a weight enum or `None` for 'weights' are deprecated since 0.13 and may be removed in the future. The current behavior is equivalent to passing `weights=ResNet50_Weights.IMAGENET1K_V1`. You can also use `weights=ResNet50_Weights.DEFAULT` to get the most up-to-date weights.\n",
            "  warnings.warn(msg)\n",
            "/usr/local/lib/python3.10/dist-packages/torch/optim/lr_scheduler.py:62: UserWarning: The verbose parameter is deprecated. Please use get_last_lr() to access the learning rate.\n",
            "  warnings.warn(\n"
          ]
        },
        {
          "output_type": "stream",
          "name": "stdout",
          "text": [
            "\n",
            "Epoch 1/25\n"
          ]
        },
        {
          "output_type": "stream",
          "name": "stderr",
          "text": [
            "Training: 100%|██████████| 70/70 [00:14<00:00,  4.73it/s]\n",
            "Evaluating: 100%|██████████| 863/863 [00:59<00:00, 14.50it/s]\n"
          ]
        },
        {
          "output_type": "stream",
          "name": "stdout",
          "text": [
            "Train Loss: 0.4752 Train Acc: 0.8067\n",
            "Test Loss: 0.4871 Test Acc: 0.7863\n",
            "Precision: 0.8914 Recall: 0.8090 F1: 0.8482\n",
            "Confusion Matrix:\n",
            "[[2612 1004]\n",
            " [1947 8245]]\n",
            "New best model saved with accuracy: 0.7863\n",
            "\n",
            "Epoch 2/25\n"
          ]
        },
        {
          "output_type": "stream",
          "name": "stderr",
          "text": [
            "Training: 100%|██████████| 70/70 [00:15<00:00,  4.38it/s]\n",
            "Evaluating: 100%|██████████| 863/863 [01:00<00:00, 14.28it/s]\n"
          ]
        },
        {
          "output_type": "stream",
          "name": "stdout",
          "text": [
            "Train Loss: 0.3217 Train Acc: 0.8669\n",
            "Test Loss: 0.4662 Test Acc: 0.8141\n",
            "Precision: 0.8426 Recall: 0.9199 F1: 0.8796\n",
            "Confusion Matrix:\n",
            "[[1865 1751]\n",
            " [ 816 9376]]\n",
            "New best model saved with accuracy: 0.8141\n",
            "\n",
            "Epoch 3/25\n"
          ]
        },
        {
          "output_type": "stream",
          "name": "stderr",
          "text": [
            "Training: 100%|██████████| 70/70 [00:15<00:00,  4.41it/s]\n",
            "Evaluating: 100%|██████████| 863/863 [00:58<00:00, 14.74it/s]\n"
          ]
        },
        {
          "output_type": "stream",
          "name": "stdout",
          "text": [
            "Train Loss: 0.2808 Train Acc: 0.8831\n",
            "Test Loss: 0.5949 Test Acc: 0.7882\n",
            "Precision: 0.8259 Recall: 0.9036 F1: 0.8630\n",
            "Confusion Matrix:\n",
            "[[1675 1941]\n",
            " [ 983 9209]]\n",
            "\n",
            "Epoch 4/25\n"
          ]
        },
        {
          "output_type": "stream",
          "name": "stderr",
          "text": [
            "Training: 100%|██████████| 70/70 [00:16<00:00,  4.17it/s]\n",
            "Evaluating: 100%|██████████| 863/863 [00:58<00:00, 14.75it/s]\n"
          ]
        },
        {
          "output_type": "stream",
          "name": "stdout",
          "text": [
            "Train Loss: 0.2721 Train Acc: 0.8984\n",
            "Test Loss: 0.4873 Test Acc: 0.8109\n",
            "Precision: 0.8831 Recall: 0.8573 F1: 0.8700\n",
            "Confusion Matrix:\n",
            "[[2459 1157]\n",
            " [1454 8738]]\n",
            "\n",
            "Epoch 5/25\n"
          ]
        },
        {
          "output_type": "stream",
          "name": "stderr",
          "text": [
            "Training: 100%|██████████| 70/70 [00:14<00:00,  4.78it/s]\n",
            "Evaluating: 100%|██████████| 863/863 [00:59<00:00, 14.62it/s]\n"
          ]
        },
        {
          "output_type": "stream",
          "name": "stdout",
          "text": [
            "Train Loss: 0.2181 Train Acc: 0.9164\n",
            "Test Loss: 0.6835 Test Acc: 0.7811\n",
            "Precision: 0.9081 Recall: 0.7826 F1: 0.8407\n",
            "Confusion Matrix:\n",
            "[[2809  807]\n",
            " [2216 7976]]\n",
            "\n",
            "Epoch 6/25\n"
          ]
        },
        {
          "output_type": "stream",
          "name": "stderr",
          "text": [
            "Training: 100%|██████████| 70/70 [00:13<00:00,  5.29it/s]\n",
            "Evaluating: 100%|██████████| 863/863 [00:58<00:00, 14.69it/s]\n"
          ]
        },
        {
          "output_type": "stream",
          "name": "stdout",
          "text": [
            "Train Loss: 0.2287 Train Acc: 0.9074\n",
            "Test Loss: 0.5686 Test Acc: 0.7977\n",
            "Precision: 0.8814 Recall: 0.8389 F1: 0.8596\n",
            "Confusion Matrix:\n",
            "[[2465 1151]\n",
            " [1642 8550]]\n",
            "\n",
            "Epoch 7/25\n"
          ]
        },
        {
          "output_type": "stream",
          "name": "stderr",
          "text": [
            "Training: 100%|██████████| 70/70 [00:14<00:00,  4.85it/s]\n",
            "Evaluating: 100%|██████████| 863/863 [00:59<00:00, 14.44it/s]\n"
          ]
        },
        {
          "output_type": "stream",
          "name": "stdout",
          "text": [
            "Train Loss: 0.2033 Train Acc: 0.9299\n",
            "Test Loss: 0.5521 Test Acc: 0.8036\n",
            "Precision: 0.8738 Recall: 0.8578 F1: 0.8657\n",
            "Confusion Matrix:\n",
            "[[2353 1263]\n",
            " [1449 8743]]\n",
            "\n",
            "Epoch 8/25\n"
          ]
        },
        {
          "output_type": "stream",
          "name": "stderr",
          "text": [
            "Training: 100%|██████████| 70/70 [00:15<00:00,  4.47it/s]\n",
            "Evaluating: 100%|██████████| 863/863 [01:00<00:00, 14.15it/s]\n"
          ]
        },
        {
          "output_type": "stream",
          "name": "stdout",
          "text": [
            "Train Loss: 0.1772 Train Acc: 0.9290\n",
            "Test Loss: 0.6055 Test Acc: 0.8010\n",
            "Precision: 0.8791 Recall: 0.8468 F1: 0.8627\n",
            "Confusion Matrix:\n",
            "[[2429 1187]\n",
            " [1561 8631]]\n",
            "\n",
            "Epoch 9/25\n"
          ]
        },
        {
          "output_type": "stream",
          "name": "stderr",
          "text": [
            "Training: 100%|██████████| 70/70 [00:16<00:00,  4.24it/s]\n",
            "Evaluating: 100%|██████████| 863/863 [01:00<00:00, 14.23it/s]\n"
          ]
        },
        {
          "output_type": "stream",
          "name": "stdout",
          "text": [
            "Train Loss: 0.1624 Train Acc: 0.9469\n",
            "Test Loss: 0.6386 Test Acc: 0.8009\n",
            "Precision: 0.9005 Recall: 0.8209 F1: 0.8589\n",
            "Confusion Matrix:\n",
            "[[2692  924]\n",
            " [1825 8367]]\n",
            "\n",
            "Epoch 10/25\n"
          ]
        },
        {
          "output_type": "stream",
          "name": "stderr",
          "text": [
            "Training: 100%|██████████| 70/70 [00:14<00:00,  4.80it/s]\n",
            "Evaluating: 100%|██████████| 863/863 [00:57<00:00, 14.91it/s]\n"
          ]
        },
        {
          "output_type": "stream",
          "name": "stdout",
          "text": [
            "Train Loss: 0.1607 Train Acc: 0.9406\n",
            "Test Loss: 0.6366 Test Acc: 0.8032\n",
            "Precision: 0.8881 Recall: 0.8391 F1: 0.8629\n",
            "Confusion Matrix:\n",
            "[[2538 1078]\n",
            " [1640 8552]]\n",
            "\n",
            "Epoch 11/25\n"
          ]
        },
        {
          "output_type": "stream",
          "name": "stderr",
          "text": [
            "Training: 100%|██████████| 70/70 [00:14<00:00,  4.82it/s]\n",
            "Evaluating: 100%|██████████| 863/863 [00:59<00:00, 14.47it/s]\n"
          ]
        },
        {
          "output_type": "stream",
          "name": "stdout",
          "text": [
            "Train Loss: 0.1620 Train Acc: 0.9317\n",
            "Test Loss: 0.6183 Test Acc: 0.8063\n",
            "Precision: 0.8897 Recall: 0.8420 F1: 0.8652\n",
            "Confusion Matrix:\n",
            "[[2552 1064]\n",
            " [1610 8582]]\n",
            "\n",
            "Epoch 12/25\n"
          ]
        },
        {
          "output_type": "stream",
          "name": "stderr",
          "text": [
            "Training: 100%|██████████| 70/70 [00:15<00:00,  4.45it/s]\n",
            "Evaluating: 100%|██████████| 863/863 [00:58<00:00, 14.79it/s]\n"
          ]
        },
        {
          "output_type": "stream",
          "name": "stdout",
          "text": [
            "Train Loss: 0.1672 Train Acc: 0.9272\n",
            "Test Loss: 0.5993 Test Acc: 0.8064\n",
            "Precision: 0.8693 Recall: 0.8683 F1: 0.8688\n",
            "Confusion Matrix:\n",
            "[[2285 1331]\n",
            " [1342 8850]]\n",
            "\n",
            "Epoch 13/25\n"
          ]
        },
        {
          "output_type": "stream",
          "name": "stderr",
          "text": [
            "Training: 100%|██████████| 70/70 [00:14<00:00,  4.80it/s]\n",
            "Evaluating: 100%|██████████| 863/863 [01:00<00:00, 14.32it/s]\n"
          ]
        },
        {
          "output_type": "stream",
          "name": "stdout",
          "text": [
            "Train Loss: 0.1587 Train Acc: 0.9299\n",
            "Test Loss: 0.6513 Test Acc: 0.8034\n",
            "Precision: 0.8905 Recall: 0.8366 F1: 0.8627\n",
            "Confusion Matrix:\n",
            "[[2567 1049]\n",
            " [1665 8527]]\n",
            "\n",
            "Epoch 14/25\n"
          ]
        },
        {
          "output_type": "stream",
          "name": "stderr",
          "text": [
            "Training: 100%|██████████| 70/70 [00:14<00:00,  4.83it/s]\n",
            "Evaluating: 100%|██████████| 863/863 [00:58<00:00, 14.84it/s]\n"
          ]
        },
        {
          "output_type": "stream",
          "name": "stdout",
          "text": [
            "Train Loss: 0.1450 Train Acc: 0.9433\n",
            "Test Loss: 0.6360 Test Acc: 0.8046\n",
            "Precision: 0.8996 Recall: 0.8276 F1: 0.8621\n",
            "Confusion Matrix:\n",
            "[[2675  941]\n",
            " [1757 8435]]\n",
            "\n",
            "Epoch 15/25\n"
          ]
        },
        {
          "output_type": "stream",
          "name": "stderr",
          "text": [
            "Training: 100%|██████████| 70/70 [00:14<00:00,  4.84it/s]\n",
            "Evaluating: 100%|██████████| 863/863 [01:00<00:00, 14.37it/s]\n"
          ]
        },
        {
          "output_type": "stream",
          "name": "stdout",
          "text": [
            "Train Loss: 0.1534 Train Acc: 0.9379\n",
            "Test Loss: 0.6264 Test Acc: 0.8059\n",
            "Precision: 0.8931 Recall: 0.8372 F1: 0.8643\n",
            "Confusion Matrix:\n",
            "[[2595 1021]\n",
            " [1659 8533]]\n",
            "\n",
            "Epoch 16/25\n"
          ]
        },
        {
          "output_type": "stream",
          "name": "stderr",
          "text": [
            "Training: 100%|██████████| 70/70 [00:15<00:00,  4.59it/s]\n",
            "Evaluating: 100%|██████████| 863/863 [01:10<00:00, 12.27it/s]\n"
          ]
        },
        {
          "output_type": "stream",
          "name": "stdout",
          "text": [
            "Train Loss: 0.2007 Train Acc: 0.9227\n",
            "Test Loss: 0.6449 Test Acc: 0.8042\n",
            "Precision: 0.8930 Recall: 0.8347 F1: 0.8629\n",
            "Confusion Matrix:\n",
            "[[2597 1019]\n",
            " [1685 8507]]\n",
            "\n",
            "Epoch 17/25\n"
          ]
        },
        {
          "output_type": "stream",
          "name": "stderr",
          "text": [
            "Training: 100%|██████████| 70/70 [00:14<00:00,  4.89it/s]\n",
            "Evaluating: 100%|██████████| 863/863 [00:58<00:00, 14.71it/s]\n"
          ]
        },
        {
          "output_type": "stream",
          "name": "stdout",
          "text": [
            "Train Loss: 0.1386 Train Acc: 0.9505\n",
            "Test Loss: 0.5995 Test Acc: 0.8058\n",
            "Precision: 0.8874 Recall: 0.8440 F1: 0.8652\n",
            "Confusion Matrix:\n",
            "[[2525 1091]\n",
            " [1590 8602]]\n",
            "\n",
            "Epoch 18/25\n"
          ]
        },
        {
          "output_type": "stream",
          "name": "stderr",
          "text": [
            "Training: 100%|██████████| 70/70 [00:13<00:00,  5.01it/s]\n",
            "Evaluating: 100%|██████████| 863/863 [00:59<00:00, 14.39it/s]\n"
          ]
        },
        {
          "output_type": "stream",
          "name": "stdout",
          "text": [
            "Train Loss: 0.1668 Train Acc: 0.9326\n",
            "Test Loss: 0.6274 Test Acc: 0.8050\n",
            "Precision: 0.8810 Recall: 0.8508 F1: 0.8656\n",
            "Confusion Matrix:\n",
            "[[2445 1171]\n",
            " [1521 8671]]\n",
            "\n",
            "Epoch 19/25\n"
          ]
        },
        {
          "output_type": "stream",
          "name": "stderr",
          "text": [
            "Training: 100%|██████████| 70/70 [00:14<00:00,  4.86it/s]\n",
            "Evaluating: 100%|██████████| 863/863 [01:01<00:00, 13.96it/s]\n"
          ]
        },
        {
          "output_type": "stream",
          "name": "stdout",
          "text": [
            "Train Loss: 0.1695 Train Acc: 0.9353\n",
            "Test Loss: 0.6348 Test Acc: 0.8054\n",
            "Precision: 0.8988 Recall: 0.8298 F1: 0.8629\n",
            "Confusion Matrix:\n",
            "[[2664  952]\n",
            " [1735 8457]]\n",
            "\n",
            "Epoch 20/25\n"
          ]
        },
        {
          "output_type": "stream",
          "name": "stderr",
          "text": [
            "Training: 100%|██████████| 70/70 [00:17<00:00,  4.01it/s]\n",
            "Evaluating: 100%|██████████| 863/863 [00:58<00:00, 14.85it/s]\n"
          ]
        },
        {
          "output_type": "stream",
          "name": "stdout",
          "text": [
            "Train Loss: 0.1583 Train Acc: 0.9406\n",
            "Test Loss: 0.6485 Test Acc: 0.8009\n",
            "Precision: 0.8852 Recall: 0.8391 F1: 0.8615\n",
            "Confusion Matrix:\n",
            "[[2507 1109]\n",
            " [1640 8552]]\n",
            "\n",
            "Epoch 21/25\n"
          ]
        },
        {
          "output_type": "stream",
          "name": "stderr",
          "text": [
            "Training: 100%|██████████| 70/70 [00:14<00:00,  4.80it/s]\n",
            "Evaluating: 100%|██████████| 863/863 [00:59<00:00, 14.48it/s]\n"
          ]
        },
        {
          "output_type": "stream",
          "name": "stdout",
          "text": [
            "Train Loss: 0.1774 Train Acc: 0.9371\n",
            "Test Loss: 0.6144 Test Acc: 0.8061\n",
            "Precision: 0.8865 Recall: 0.8455 F1: 0.8655\n",
            "Confusion Matrix:\n",
            "[[2513 1103]\n",
            " [1575 8617]]\n",
            "\n",
            "Epoch 22/25\n"
          ]
        },
        {
          "output_type": "stream",
          "name": "stderr",
          "text": [
            "Training: 100%|██████████| 70/70 [00:14<00:00,  4.85it/s]\n",
            "Evaluating: 100%|██████████| 863/863 [00:57<00:00, 15.11it/s]\n"
          ]
        },
        {
          "output_type": "stream",
          "name": "stdout",
          "text": [
            "Train Loss: 0.1567 Train Acc: 0.9379\n",
            "Test Loss: 0.6587 Test Acc: 0.8051\n",
            "Precision: 0.8902 Recall: 0.8395 F1: 0.8641\n",
            "Confusion Matrix:\n",
            "[[2561 1055]\n",
            " [1636 8556]]\n",
            "\n",
            "Epoch 23/25\n"
          ]
        },
        {
          "output_type": "stream",
          "name": "stderr",
          "text": [
            "Training: 100%|██████████| 70/70 [00:14<00:00,  4.83it/s]\n",
            "Evaluating: 100%|██████████| 863/863 [00:59<00:00, 14.53it/s]\n"
          ]
        },
        {
          "output_type": "stream",
          "name": "stdout",
          "text": [
            "Train Loss: 0.1692 Train Acc: 0.9415\n",
            "Test Loss: 0.6264 Test Acc: 0.8060\n",
            "Precision: 0.8883 Recall: 0.8432 F1: 0.8652\n",
            "Confusion Matrix:\n",
            "[[2535 1081]\n",
            " [1598 8594]]\n",
            "\n",
            "Epoch 24/25\n"
          ]
        },
        {
          "output_type": "stream",
          "name": "stderr",
          "text": [
            "Training: 100%|██████████| 70/70 [00:14<00:00,  4.89it/s]\n",
            "Evaluating: 100%|██████████| 863/863 [01:00<00:00, 14.15it/s]\n"
          ]
        },
        {
          "output_type": "stream",
          "name": "stdout",
          "text": [
            "Train Loss: 0.1523 Train Acc: 0.9442\n",
            "Test Loss: 0.7015 Test Acc: 0.7987\n",
            "Precision: 0.9110 Recall: 0.8061 F1: 0.8553\n",
            "Confusion Matrix:\n",
            "[[2813  803]\n",
            " [1976 8216]]\n",
            "\n",
            "Epoch 25/25\n"
          ]
        },
        {
          "output_type": "stream",
          "name": "stderr",
          "text": [
            "Training: 100%|██████████| 70/70 [00:13<00:00,  5.34it/s]\n",
            "Evaluating: 100%|██████████| 863/863 [01:00<00:00, 14.33it/s]\n"
          ]
        },
        {
          "output_type": "stream",
          "name": "stdout",
          "text": [
            "Train Loss: 0.1558 Train Acc: 0.9442\n",
            "Test Loss: 0.6432 Test Acc: 0.8038\n",
            "Precision: 0.9017 Recall: 0.8241 F1: 0.8611\n",
            "Confusion Matrix:\n",
            "[[2700  916]\n",
            " [1793 8399]]\n",
            "\n",
            "Training completed!\n",
            "Best test accuracy: 0.8141\n",
            "\n",
            "Test prediction on sample image: COVID\n"
          ]
        },
        {
          "output_type": "display_data",
          "data": {
            "text/plain": [
              "<Figure size 800x600 with 1 Axes>"
            ],
            "image/png": "[encoded data removed]"
          },
          "metadata": {}
        },
        {
          "output_type": "display_data",
          "data": {
            "text/plain": [
              "<Figure size 800x600 with 2 Axes>"
            ],
            "image/png": "[encoded data removed]"
          },
          "metadata": {}
        }
      ]
    }
  ]
}